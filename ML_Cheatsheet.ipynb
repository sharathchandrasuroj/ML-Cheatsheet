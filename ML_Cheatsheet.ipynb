{
  "nbformat": 4,
  "nbformat_minor": 0,
  "metadata": {
    "colab": {
      "name": "ML Cheatsheet.ipynb",
      "provenance": []
    },
    "kernelspec": {
      "name": "python3",
      "display_name": "Python 3"
    },
    "language_info": {
      "name": "python"
    }
  },
  "cells": [
    {
      "cell_type": "markdown",
      "source": [
        "**Dataset**"
      ],
      "metadata": {
        "id": "cibDS5JXXutq"
      }
    },
    {
      "cell_type": "code",
      "execution_count": null,
      "metadata": {
        "id": "wb1yfc2tqOkq"
      },
      "outputs": [],
      "source": [
        "#Dataset Link"
      ]
    },
    {
      "cell_type": "markdown",
      "source": [
        "**Libraries**"
      ],
      "metadata": {
        "id": "lFvA3Vgx-FNe"
      }
    },
    {
      "cell_type": "code",
      "source": [
        "#Import Libraries\n",
        "import pandas as pd\n",
        "import numpy as np\n",
        "import matplotlib.pyplot as plt\n",
        "import seaborn as sns\n",
        "%matplotlib inline"
      ],
      "metadata": {
        "id": "Zc-WIjrKqXdh"
      },
      "execution_count": null,
      "outputs": []
    },
    {
      "cell_type": "markdown",
      "source": [
        "**Read Dataset**"
      ],
      "metadata": {
        "id": "fwNlLDWUNElm"
      }
    },
    {
      "cell_type": "code",
      "source": [
        "#Read Dataset from csv files and converting UTF-8 encoding\n",
        "df=pd.read_csv('zomato.csv',encoding='latin-1')\n",
        "df.head()"
      ],
      "metadata": {
        "id": "u4Ag53F5qXhR"
      },
      "execution_count": null,
      "outputs": []
    },
    {
      "cell_type": "code",
      "source": [
        "#Read Datset from Excel files\n",
        "df=pd.read_excel(\"Data_Train.xlsx\")"
      ],
      "metadata": {
        "id": "2IuQTUcvqXyU"
      },
      "execution_count": null,
      "outputs": []
    },
    {
      "cell_type": "code",
      "source": [
        "#From Drive \n",
        "from google.colab import drive\n",
        "drive.mount('/content/drive')\n",
        "\n",
        "data = pd.read_csv('/content/drive/My Drive/zomato.csv')"
      ],
      "metadata": {
        "id": "0hgUplVdNhC8"
      },
      "execution_count": null,
      "outputs": []
    },
    {
      "cell_type": "markdown",
      "source": [
        "**Dataset to Dataframe**"
      ],
      "metadata": {
        "id": "cmiOITCCNJtw"
      }
    },
    {
      "cell_type": "code",
      "source": [
        "#convert Dataset into dataframe"
      ],
      "metadata": {
        "id": "QipBM9tDs_mZ"
      },
      "execution_count": null,
      "outputs": []
    },
    {
      "cell_type": "code",
      "source": [
        "#convert dataframe into Dataset"
      ],
      "metadata": {
        "id": "l9eUmfaQtP7n"
      },
      "execution_count": null,
      "outputs": []
    },
    {
      "cell_type": "markdown",
      "source": [
        "**Merge  Append Concat Dataframes**"
      ],
      "metadata": {
        "id": "NZBMU8yRM2VC"
      }
    },
    {
      "cell_type": "code",
      "source": [
        "#Adding two or more Dataframes using specific feature\n",
        "# Merge  # Append #Concat\n",
        "#Data Frames Tables \"Joins\"\n",
        "final_df=pd.merge(df,df_country,on='Country Code', how='left')"
      ],
      "metadata": {
        "id": "cga5N_-eqYPL"
      },
      "execution_count": null,
      "outputs": []
    },
    {
      "cell_type": "code",
      "source": [
        "#concating two dataframes\n",
        "df=pd.concat([df,df_city],axis=1)\n",
        "df.head()"
      ],
      "metadata": {
        "id": "ziYhA39v4LMz"
      },
      "execution_count": null,
      "outputs": []
    },
    {
      "cell_type": "code",
      "source": [
        "##MErge both train and test data\n",
        "df=df_train.append(df_test)\n",
        "df.head()"
      ],
      "metadata": {
        "id": "0gWYgI2W2oIl"
      },
      "execution_count": null,
      "outputs": []
    },
    {
      "cell_type": "code",
      "source": [
        "df.head(2)  \n",
        "df.tail(5)"
      ],
      "metadata": {
        "id": "wPvTFiwnqYSz"
      },
      "execution_count": null,
      "outputs": []
    },
    {
      "cell_type": "code",
      "source": [
        "#Read Columns\n",
        "df.columns"
      ],
      "metadata": {
        "id": "XxiHNcv-qX1r"
      },
      "execution_count": null,
      "outputs": []
    },
    {
      "cell_type": "code",
      "source": [
        "#Read Columns with null values Datatypes\n",
        "df.info()"
      ],
      "metadata": {
        "id": "RVsM6swZqX5b"
      },
      "execution_count": null,
      "outputs": []
    },
    {
      "cell_type": "code",
      "source": [
        "#Displays Datatypes of all columns(Features)\n",
        "df.dtypes"
      ],
      "metadata": {
        "id": "DIGi8kptqX8o"
      },
      "execution_count": null,
      "outputs": []
    },
    {
      "cell_type": "code",
      "source": [
        "#Displays man std min 25% 50% all\n",
        "df.describe()"
      ],
      "metadata": {
        "id": "Eu4a1JBVqX_0"
      },
      "execution_count": null,
      "outputs": []
    },
    {
      "cell_type": "code",
      "source": [
        "#Dataset Size Columns and Rows\n",
        "df.shape"
      ],
      "metadata": {
        "id": "Q7tuomNHqYC3"
      },
      "execution_count": null,
      "outputs": []
    },
    {
      "cell_type": "code",
      "source": [
        "zomato.copy()"
      ],
      "metadata": {
        "id": "9D0mqhc2QmHC"
      },
      "execution_count": null,
      "outputs": []
    },
    {
      "cell_type": "code",
      "source": [
        "#Deleting features\n",
        "df.drop(['User_ID'],axis=1,inplace=True)"
      ],
      "metadata": {
        "id": "vofHlloA2gj3"
      },
      "execution_count": null,
      "outputs": []
    },
    {
      "cell_type": "code",
      "source": [
        "#Selecting Specific Feature values\n",
        "final_df[['Airline']]"
      ],
      "metadata": {
        "id": "oQCJNYzlqYhL"
      },
      "execution_count": null,
      "outputs": []
    },
    {
      "cell_type": "code",
      "source": [
        "#Specific column with distinct values in array \n",
        "df['Product_Category_3'].unique()\n",
        "\n",
        "#or \n",
        "\n",
        "zomato.cost.unique() # cheking the unique costs"
      ],
      "metadata": {
        "id": "3bHTPSHF6P0O"
      },
      "execution_count": null,
      "outputs": []
    },
    {
      "cell_type": "code",
      "source": [
        "#Specific Feature column with index and values\n",
        "df['Product_Category_3'].value_counts()"
      ],
      "metadata": {
        "id": "SBu_AVfb6a1C"
      },
      "execution_count": null,
      "outputs": []
    },
    {
      "cell_type": "markdown",
      "source": [
        "**Missing Values**"
      ],
      "metadata": {
        "id": "kkBiNxgs57ud"
      }
    },
    {
      "cell_type": "code",
      "source": [
        "#Remove the NaN values from the dataset\n",
        "zomato.isnull().sum()\n",
        "zomato.dropna(how='any',inplace=True)"
      ],
      "metadata": {
        "id": "LsWlPzv3OCfA"
      },
      "execution_count": null,
      "outputs": []
    },
    {
      "cell_type": "code",
      "source": [
        "#Identifying number of Null Values\n",
        "df.isnull().sum()"
      ],
      "metadata": {
        "id": "HBZK-72tqYF2"
      },
      "execution_count": null,
      "outputs": []
    },
    {
      "cell_type": "code",
      "source": [
        "#Selected Feature Null Values Finding\n",
        "df['Product_Category_2'].isnull().sum()"
      ],
      "metadata": {
        "id": "Fox9vyJt6Ehj"
      },
      "execution_count": null,
      "outputs": []
    },
    {
      "cell_type": "code",
      "source": [
        "#print the Features name having more than 0 Null values\n",
        "[features for features in df.columns if df[features].isnull().sum()>0]"
      ],
      "metadata": {
        "id": "1yU0E45pqYJQ"
      },
      "execution_count": null,
      "outputs": []
    },
    {
      "cell_type": "code",
      "source": [
        "#Plotiing Null values \n",
        "#change the fig size by rcparams\n",
        "matplotlib.rcParams['figure.figsize'] = (12, 6)\n",
        "sns.heatmap(df.isnull(),yticklabels=False,cbar=False,cmap='viridis')"
      ],
      "metadata": {
        "id": "ZXwqJMQTqYMR"
      },
      "execution_count": null,
      "outputs": []
    },
    {
      "cell_type": "code",
      "source": [
        "#Finding Mode of feature\n",
        "#used in replaing missing values\n",
        "df['Product_Category_2'].mode()[0]"
      ],
      "metadata": {
        "id": "A6BxehJi3od7"
      },
      "execution_count": null,
      "outputs": []
    },
    {
      "cell_type": "code",
      "source": [
        "## Replace the missing values with mode\n",
        "df['Product_Category_2'] = \n",
        "            df['Product_Category_2'].fillna(df['Product_Category_2'].mode()[0])"
      ],
      "metadata": {
        "id": "YLLaAXxe3ohX"
      },
      "execution_count": null,
      "outputs": []
    },
    {
      "cell_type": "code",
      "source": [
        ""
      ],
      "metadata": {
        "id": "qTSC3bGn7N4L"
      },
      "execution_count": null,
      "outputs": []
    },
    {
      "cell_type": "code",
      "source": [
        "#Changing the column names\n",
        "zomato = zomato.rename(columns={'approx_cost(for two people)':'cost',\n",
        "                                'listed_in(type)':'type',\n",
        "                                  'listed_in(city)':'city'})"
      ],
      "metadata": {
        "id": "9dhQikjIOUPE"
      },
      "execution_count": null,
      "outputs": []
    },
    {
      "cell_type": "code",
      "source": [
        ""
      ],
      "metadata": {
        "id": "go3LcXF-OpLa"
      },
      "execution_count": null,
      "outputs": []
    },
    {
      "cell_type": "code",
      "source": [
        "#Feature Index values\n",
        "country_names=final_df.Country.value_counts().index"
      ],
      "metadata": {
        "id": "iZyTLNnrqYWF"
      },
      "execution_count": null,
      "outputs": []
    },
    {
      "cell_type": "code",
      "source": [
        "# Feature Values\n",
        "country_val=final_df.Country.value_counts().values"
      ],
      "metadata": {
        "id": "FJX3c0swqYYy"
      },
      "execution_count": null,
      "outputs": []
    },
    {
      "cell_type": "markdown",
      "source": [
        "**Groupby**"
      ],
      "metadata": {
        "id": "XMKGCLcdTwRN"
      }
    },
    {
      "cell_type": "code",
      "source": [
        "#Selected Specific Features and grouping them\n",
        "final_df.groupby(['Feature1','Feature2']).size().reset_index().head(5)\n",
        "\n",
        "#or\n",
        "final_df[['Country','Currency']].groupby(['Country','Currency']).size().reset_index()"
      ],
      "metadata": {
        "id": "WsDclKkE1gM-"
      },
      "execution_count": null,
      "outputs": []
    },
    {
      "cell_type": "code",
      "source": [
        ""
      ],
      "metadata": {
        "id": "E3FGHzDO1gQu"
      },
      "execution_count": null,
      "outputs": []
    },
    {
      "cell_type": "markdown",
      "source": [
        "**Removing Duplicates**"
      ],
      "metadata": {
        "id": "IMW4LdAvNynQ"
      }
    },
    {
      "cell_type": "code",
      "source": [
        "#Removing the Duplicates\n",
        "zomato.duplicated().sum()\n",
        "zomato.drop_duplicates(inplace=True)"
      ],
      "metadata": {
        "id": "oEeLsWJ21gUW"
      },
      "execution_count": null,
      "outputs": []
    },
    {
      "cell_type": "code",
      "source": [
        "#Checking Specific column using \"isin() method\"\n",
        "for column in zomato.columns[~zomato.columns.isin(['rate', 'cost', 'votes'])]:"
      ],
      "metadata": {
        "id": "TTc65W26Hbb2"
      },
      "execution_count": null,
      "outputs": []
    },
    {
      "cell_type": "code",
      "source": [
        "#checking Feature having the value or not\n",
        "final_df[final_df['Has Online delivery'] ==\"Yes\"].Country.value_counts() "
      ],
      "metadata": {
        "id": "JlMrtHF-UHOh"
      },
      "execution_count": null,
      "outputs": []
    },
    {
      "cell_type": "markdown",
      "source": [
        "**Handle categorical feature**"
      ],
      "metadata": {
        "id": "6k5fT5-65jBK"
      }
    },
    {
      "cell_type": "code",
      "source": [
        "## Handle categorical feature Age\n",
        "df['Age'].unique()"
      ],
      "metadata": {
        "id": "uYTQScHjqYpn"
      },
      "execution_count": null,
      "outputs": []
    },
    {
      "cell_type": "markdown",
      "source": [
        "**Dummy Variable Trap**"
      ],
      "metadata": {
        "id": "UFioFE1M5ZMm"
      }
    },
    {
      "cell_type": "code",
      "source": [
        "#Label Encoding\n",
        "#Dummy variable trapping ###REmoves \n",
        "df['Gender']=pd.get_dummies(df['Gender'],drop_first=1)"
      ],
      "metadata": {
        "id": "jph9l7wJqYj0"
      },
      "execution_count": null,
      "outputs": []
    },
    {
      "cell_type": "code",
      "source": [
        "##HAndling categorical feature Gender using simple Mapping technique\n",
        "#Less Categories only\n",
        "df['Gender']=df['Gender'].map({'F':0,'M':1})\n",
        "df.head()"
      ],
      "metadata": {
        "id": "pBfMhDlqqYm4"
      },
      "execution_count": null,
      "outputs": []
    },
    {
      "cell_type": "code",
      "source": [
        "#Labelling Features\n",
        "#pd.get_dummies(df['Age'],drop_first=True)\n",
        "df['Age']=df['Age'].map({'0-17':1,'18-25':2,'26-35':3,\n",
        "                         '36-45':4,'46-50':5,'51-55':6,\n",
        "                         '55+':7})"
      ],
      "metadata": {
        "id": "rGRfuh_JqYsO"
      },
      "execution_count": null,
      "outputs": []
    },
    {
      "cell_type": "markdown",
      "source": [
        "**Label Encoding**"
      ],
      "metadata": {
        "id": "LkNlLmOn5S8n"
      }
    },
    {
      "cell_type": "code",
      "source": [
        "##second technqiue\n",
        "from sklearn import preprocessing\n",
        " \n",
        "# label_encoder object knows how to understand word labels.\n",
        "label_encoder = preprocessing.LabelEncoder()\n",
        " \n",
        "# Encode labels in column 'species'.\n",
        "df['Age']= label_encoder.fit_transform(df['Age'])\n",
        " \n",
        "df['Age'].unique()"
      ],
      "metadata": {
        "id": "sQ06-Oul3oMW"
      },
      "execution_count": null,
      "outputs": []
    },
    {
      "cell_type": "code",
      "source": [
        ""
      ],
      "metadata": {
        "id": "R6EPgnLJBkJk"
      },
      "execution_count": null,
      "outputs": []
    },
    {
      "cell_type": "markdown",
      "source": [
        "**Data Converting Regex**"
      ],
      "metadata": {
        "id": "LTHiKCLbBasZ"
      }
    },
    {
      "cell_type": "code",
      "source": [
        "#Spliting the Features Values after Spaces separation\n",
        "# 01:10 22 Mar to 01:10\n",
        "final_df['Arrival_Time'].str.split(' ').str[0]"
      ],
      "metadata": {
        "id": "QSDUHoaT3ok9"
      },
      "execution_count": null,
      "outputs": []
    },
    {
      "cell_type": "code",
      "source": [
        "#Replacing Special Characters \n",
        "#deleting +\n",
        "# 4+  to 4 only \n",
        "df['Stay_In_Current_City_Years'] =\n",
        "              df['Stay_In_Current_City_Years'].str.replace('+','')"
      ],
      "metadata": {
        "id": "h6L5e8i83ond"
      },
      "execution_count": null,
      "outputs": []
    },
    {
      "cell_type": "code",
      "source": [
        "#Convert all datatypes into Int or Float format only\n",
        "#initially all in object format\n",
        "##convert object into integers\n",
        "df['Stay_In_Current_City_Years'] =  \n",
        "                      df['Stay_In_Current_City_Years'].astype(int)\n",
        "df['B']=df['B'].astype(int)\n",
        "df['C']=df['C'].astype(int)\n",
        "df.info()"
      ],
      "metadata": {
        "id": "W6Oe0FNB3oqL"
      },
      "execution_count": null,
      "outputs": []
    },
    {
      "cell_type": "code",
      "source": [
        "#Converting 4.1/5 format to 4.1\n",
        "zomato = zomato.loc[zomato.rate !='NEW']\n",
        "zomato = zomato.loc[zomato.rate !='-'].reset_index(drop=True)\n",
        "remove_slash = lambda x: x.replace('/5', '') if type(x) == np.str else x\n",
        "zomato.rate = zomato.rate.apply(remove_slash).str.strip().astype('float')"
      ],
      "metadata": {
        "id": "5KqHBRjUPWMB"
      },
      "execution_count": null,
      "outputs": []
    },
    {
      "cell_type": "code",
      "source": [
        "#Converting Yes/No to True/False\n",
        "zomato.name = zomato.name.apply(lambda x:x.title())\n",
        "zomato.online_order.replace(('Yes','No'),(True, False),inplace=True)\n",
        "zomato.book_table.replace(('Yes','No'),(True, False),inplace=True"
      ],
      "metadata": {
        "id": "-gAodIBvP94l"
      },
      "execution_count": null,
      "outputs": []
    },
    {
      "cell_type": "markdown",
      "source": [
        "**Handling DateTime Feature**"
      ],
      "metadata": {
        "id": "gpa_YZzj-rsP"
      }
    },
    {
      "cell_type": "code",
      "source": [
        "#Converting DateTime 24/03/2019 format to 24Date 03Month 2019Year\n",
        "final_df['Date_of_Journey'].str.split('/').str[0]"
      ],
      "metadata": {
        "id": "wKr_3A1G-pgr"
      },
      "execution_count": null,
      "outputs": []
    },
    {
      "cell_type": "code",
      "source": [
        "#Converting complete DateTime Feature \n",
        "# 24/03/2019 into \"24Date 03Month 2019Year\" Column wise\n",
        "final_df['Date']=final_df['Date_of_Journey'].str.split('/').str[0]\n",
        "final_df['Month']=final_df['Date_of_Journey'].str.split('/').str[1]\n",
        "final_df['Year']=final_df['Date_of_Journey'].str.split('/').str[2]"
      ],
      "metadata": {
        "id": "vs6SHC9C-p8h"
      },
      "execution_count": null,
      "outputs": []
    },
    {
      "cell_type": "code",
      "source": [
        "#Another Method\n",
        "df[\"Date\"]=df['Date_of_Journey'].apply(lambda x:x.split(\"/\")[0])\n",
        "df[\"Month\"]=df['Date_of_Journey'].apply(lambda x:x.split(\"/\")[1])\n",
        "df[\"Year\"]=df['Date_of_Journey'].apply(lambda x:x.split(\"/\")[2])"
      ],
      "metadata": {
        "id": "VGNo30Fu-qAE"
      },
      "execution_count": null,
      "outputs": []
    },
    {
      "cell_type": "code",
      "source": [
        "#converting Feature \"01:10 22 Mar\" format to only\n",
        "#  \"01 hour and 10 min\" separate features\n",
        "#removing spacr after text and again spliting values using Colan:\n",
        "#Deleting \"space and colan\" after Extra Text\n",
        "final_df['Arrival_Time'] =\n",
        "                final_df['Arrival_Time'].apply(lambda x : x.split(' ')\n",
        "\n",
        "#or\n",
        "final_df['Arrival_hour']=final_df['Arrival_Time'].str.split(':').str[0]\n",
        "final_df['Arrival_min']=final_df['Arrival_Time'].str.split(':').str[1]"
      ],
      "metadata": {
        "id": "1uhMU8sq-qDH"
      },
      "execution_count": null,
      "outputs": []
    },
    {
      "cell_type": "code",
      "source": [
        "#converting 22:20 time to \"22 hours and 20 min\" columns\n",
        "final_df['Dept_hour']=final_df['Dep_Time'].str.split(':').str[0]\n",
        "final_df['Dept_min']=final_df['Dep_Time'].str.split(':').str[1]\n",
        "\n",
        "#Converting Object type to Int type\n",
        "final_df['Dept_hour']=final_df['Dept_hour'].astype(int)\n",
        "final_df['Dept_min']=final_df['Dept_min'].astype(int)\n",
        "\n",
        "#Deleting Old Feature\n",
        "final_df.drop('Dep_Time',axis=1,inplace=True)"
      ],
      "metadata": {
        "id": "6jp-R3R03otR"
      },
      "execution_count": null,
      "outputs": []
    },
    {
      "cell_type": "code",
      "source": [
        "#Another Simple method for alphanumeric feature to numeric feature\n",
        "#same time Encoding \n",
        "#Simply map (only for less Distinct Values)\n",
        "final_df['Total_Stops'] = final_df['Total_Stops'].map({'non-stop':0,'1 stop':1,\n",
        "                                                     '2 stops':2,'3 stops':3,\n",
        "                                                     '4 stops':4,'nan':1})"
      ],
      "metadata": {
        "id": "e6BmYNAr3owW"
      },
      "execution_count": null,
      "outputs": []
    },
    {
      "cell_type": "code",
      "source": [
        "Time 2h 50m format to 2 only\n",
        "final_df['duration_hour'] =\n",
        "          final_df['Duration'].str.split(' ').str[0].str.split('h').str[0]"
      ],
      "metadata": {
        "id": "Y5oCgtmPHbof"
      },
      "execution_count": null,
      "outputs": []
    },
    {
      "cell_type": "code",
      "source": [
        "# Converting Object type to String type to Float64 format \n",
        "zomato['cost'] = zomato['cost'].astype(str) #Changing the cost to string\n",
        "zomato['cost'] = zomato['cost'].apply(lambda x: x.replace(',','.')) \n",
        "#Using lambda function to replace ',' from cost\n",
        "zomato['cost'] = zomato['cost'].astype(float) # Changing the cost to Float"
      ],
      "metadata": {
        "id": "A1f45hDJHble"
      },
      "execution_count": null,
      "outputs": []
    },
    {
      "cell_type": "code",
      "source": [
        ""
      ],
      "metadata": {
        "id": "FrGetJDzHbiZ"
      },
      "execution_count": null,
      "outputs": []
    },
    {
      "cell_type": "code",
      "source": [
        ""
      ],
      "metadata": {
        "id": "Kdx5js_cHbfX"
      },
      "execution_count": null,
      "outputs": []
    },
    {
      "cell_type": "markdown",
      "source": [
        "**Visualization**"
      ],
      "metadata": {
        "id": "ZPrYf2bLMDQ6"
      }
    },
    {
      "cell_type": "code",
      "source": [
        "#Changing the Figure siz eusing rcParams\n",
        "import matplotlib\n",
        "matplotlib.rcParams['figure.figsize'] = (12, 6)"
      ],
      "metadata": {
        "id": "SOcQTEo3RRr5"
      },
      "execution_count": null,
      "outputs": []
    },
    {
      "cell_type": "code",
      "source": [
        "##Visualisation Age vs Purchased\n",
        "#Gender colors\n",
        "#xlabel and ylabel\n",
        "sns.barplot('Age','Purchase',hue='Gender',data=df)"
      ],
      "metadata": {
        "id": "8qz9QYCU3o2e"
      },
      "execution_count": null,
      "outputs": []
    },
    {
      "cell_type": "code",
      "source": [
        "#Adding palette to Bar Plot\n",
        "sns.barplot(x=\"Aggregate rating\",y=\"Rating Count\",hue='Rating color',data=ratings,\n",
        "                      palette=['blue','red','orange','yellow','green','green'])"
      ],
      "metadata": {
        "id": "fTEnWhIMSR1f"
      },
      "execution_count": null,
      "outputs": []
    },
    {
      "cell_type": "code",
      "source": [
        "#Bar plot\n",
        "\n",
        "\n",
        "#or\n",
        "loc_plt=pd.crosstab(zomato['rate'],zomato['city'])\n",
        "loc_plt.plot(kind='bar',stacked=True);\n",
        "plt.title('Locationwise Rating',fontsize=15,fontweight='bold')\n",
        "plt.ylabel('Location',fontsize=10,fontweight='bold')\n",
        "plt.xlabel('Rating',fontsize=10,fontweight='bold')\n",
        "plt.xticks(fontsize=10,fontweight='bold')\n",
        "plt.yticks(fontsize=10,fontweight='bold');\n",
        "plt.legend();"
      ],
      "metadata": {
        "id": "1fRQtzqyTVM6"
      },
      "execution_count": null,
      "outputs": []
    },
    {
      "cell_type": "code",
      "source": [
        "## Count plot\n",
        "sns.countplot(x=\"Rating color\",data=ratings,\n",
        "              palette=['blue','red','orange','yellow','green','green'])\n",
        "\n",
        "#or\n",
        "\n",
        "#Restaurants delivering Online or not\n",
        "sns.countplot(zomato['online_order'])\n",
        "fig = plt.gcf()\n",
        "fig.set_size_inches(10,10)\n",
        "plt.title('Restaurants delivering online or Not')\n",
        "\n",
        "#or\n",
        "sns.countplot(zomato['type'])\n",
        "sns.countplot(zomato['type']).set_xticklabels(sns.countplot(zomato['type']).get_xticklabels(), \n",
        "                                              rotation=90, ha=\"right\")\n",
        "fig = plt.gcf()\n",
        "fig.set_size_inches(15,15)\n",
        "plt.title('Type of Service')\n",
        "\n",
        "#or\n",
        "plt.title('NO. of restaurants in a Location',size = 20,pad=20)"
      ],
      "metadata": {
        "id": "9g2Cl79lS5WQ"
      },
      "execution_count": null,
      "outputs": []
    },
    {
      "cell_type": "code",
      "source": [
        "## Pie Chart- Top 3 countries that uses zomato with % values\n",
        "plt.pie(country_val[:3],labels=country_names[:3],autopct='%1.2f%%')"
      ],
      "metadata": {
        "id": "qflVpyojqYbe"
      },
      "execution_count": null,
      "outputs": []
    },
    {
      "cell_type": "code",
      "source": [
        ""
      ],
      "metadata": {
        "id": "AlniM8OuR6_B"
      },
      "execution_count": null,
      "outputs": []
    },
    {
      "cell_type": "code",
      "source": [
        ""
      ],
      "metadata": {
        "id": "-beRyE5BR66w"
      },
      "execution_count": null,
      "outputs": []
    },
    {
      "cell_type": "markdown",
      "source": [
        "**Correlation  and Heatmap**"
      ],
      "metadata": {
        "id": "pmF4bbA6R8IM"
      }
    },
    {
      "cell_type": "code",
      "source": [
        "#Get Correlation between different variables\n",
        "corr = zomato_en.corr(method='kendall')\n",
        "plt.figure(figsize=(15,8))\n",
        "sns.heatmap(corr, annot=True)\n",
        "zomato_en.columns"
      ],
      "metadata": {
        "id": "BMznzMvi8sLe"
      },
      "execution_count": null,
      "outputs": []
    },
    {
      "cell_type": "code",
      "source": [
        ""
      ],
      "metadata": {
        "id": "JGh8CMaW8sPT"
      },
      "execution_count": null,
      "outputs": []
    },
    {
      "cell_type": "code",
      "source": [
        ""
      ],
      "metadata": {
        "id": "V79q1goY8sSe"
      },
      "execution_count": null,
      "outputs": []
    },
    {
      "cell_type": "markdown",
      "source": [
        "**Train Test Split**"
      ],
      "metadata": {
        "id": "AJg-GMfk9Lla"
      }
    },
    {
      "cell_type": "code",
      "source": [
        "#Droping Dependent feature\n",
        "#Training and Testing \n",
        "X=df_train.drop('Purchase',axis=1)\n",
        "\n",
        "#or\n",
        "\n",
        "X_train.drop('Product_ID',axis=1,inplace=True)\n",
        "X_test.drop('Product_ID',axis=1,inplace=True)"
      ],
      "metadata": {
        "id": "IzjR_hHi8scF"
      },
      "execution_count": null,
      "outputs": []
    },
    {
      "cell_type": "code",
      "source": [
        "y=df_train['Purchase']"
      ],
      "metadata": {
        "id": "5X225tDA8sfg"
      },
      "execution_count": null,
      "outputs": []
    },
    {
      "cell_type": "code",
      "source": [
        "from sklearn.model_selection import train_test_split\n",
        "X_train, X_test, y_train, y_test = train_test_split(\n",
        "     X, y, test_size=0.33, random_state=42)"
      ],
      "metadata": {
        "id": "yzv4SKh_8sin"
      },
      "execution_count": null,
      "outputs": []
    },
    {
      "cell_type": "code",
      "source": [
        ""
      ],
      "metadata": {
        "id": "FdcR32Ff8sla"
      },
      "execution_count": null,
      "outputs": []
    },
    {
      "cell_type": "markdown",
      "source": [
        "**Feature Scaling**"
      ],
      "metadata": {
        "id": "MWzHEZ5P9Gsv"
      }
    },
    {
      "cell_type": "code",
      "source": [
        "#Feature Scaling\n",
        "from sklearn.preprocessing import StandardScaler\n",
        "sc=StandardScaler()\n",
        "X_train=sc.fit_transform(X_train)\n",
        "X_test=sc.transform(X_test)"
      ],
      "metadata": {
        "id": "o2fX4zNl8sop"
      },
      "execution_count": null,
      "outputs": []
    },
    {
      "cell_type": "code",
      "source": [
        ""
      ],
      "metadata": {
        "id": "wyykBWhXWVWc"
      },
      "execution_count": null,
      "outputs": []
    },
    {
      "cell_type": "markdown",
      "source": [
        "**Linear Regression**"
      ],
      "metadata": {
        "id": "wqh9_4ucWYaj"
      }
    },
    {
      "cell_type": "code",
      "source": [
        "#Prepare a Linear Regression Model\n",
        "reg=LinearRegression()\n",
        "reg.fit(x_train,y_train)\n",
        "y_pred=reg.predict(x_test)\n",
        "from sklearn.metrics import r2_score\n",
        "r2_score(y_test,y_pred"
      ],
      "metadata": {
        "id": "iT8uJQGQWVF7"
      },
      "execution_count": null,
      "outputs": []
    },
    {
      "cell_type": "markdown",
      "source": [
        "**Decision Tree Regression**"
      ],
      "metadata": {
        "id": "SmWKrRPDWf3i"
      }
    },
    {
      "cell_type": "code",
      "source": [
        "#Prepairng a Decision Tree Regression\n",
        "from sklearn.tree import DecisionTreeRegressor\n",
        "x_train,x_test,y_train,y_test=train_test_split(x,y,test_size=.1,random_state=105)\n",
        "DTree=DecisionTreeRegressor(min_samples_leaf=.0001)\n",
        "DTree.fit(x_train,y_train)\n",
        "y_predict=DTree.predict(x_test)\n",
        "from sklearn.metrics import r2_score\n",
        "r2_score(y_test,y_predict)"
      ],
      "metadata": {
        "id": "Qrq5_ULwWVCk"
      },
      "execution_count": null,
      "outputs": []
    },
    {
      "cell_type": "markdown",
      "source": [
        "**Random Forest Regression**"
      ],
      "metadata": {
        "id": "z3MjkfFeWnQF"
      }
    },
    {
      "cell_type": "code",
      "source": [
        "#Preparing Random Forest REgression\n",
        "from sklearn.ensemble import RandomForestRegressor\n",
        "RForest=RandomForestRegressor(n_estimators=500,random_state=329,min_samples_leaf=.0001)\n",
        "RForest.fit(x_train,y_train)\n",
        "y_predict=RForest.predict(x_test)\n",
        "from sklearn.metrics import r2_score\n",
        "r2_score(y_test,y_predict)"
      ],
      "metadata": {
        "id": "uYtaic31WU_C"
      },
      "execution_count": null,
      "outputs": []
    },
    {
      "cell_type": "markdown",
      "source": [
        "**Extra Tree Regressor**"
      ],
      "metadata": {
        "id": "FG6n8YkbWxuW"
      }
    },
    {
      "cell_type": "code",
      "source": [
        "#Preparing Extra Tree Regression\n",
        "from sklearn.ensemble import  ExtraTreesRegressor\n",
        "ETree=ExtraTreesRegressor(n_estimators = 100)\n",
        "ETree.fit(x_train,y_train)\n",
        "y_predict=ETree.predict(x_test)\n",
        "\n",
        "\n",
        "from sklearn.metrics import r2_score\n",
        "r2_score(y_test,y_predict)"
      ],
      "metadata": {
        "id": "Tjx3iUMbWU7l"
      },
      "execution_count": null,
      "outputs": []
    },
    {
      "cell_type": "code",
      "source": [
        ""
      ],
      "metadata": {
        "id": "vyElBXLRWU3O"
      },
      "execution_count": null,
      "outputs": []
    },
    {
      "cell_type": "markdown",
      "source": [
        "**Save and Load Model**"
      ],
      "metadata": {
        "id": "OYMjKIK7W6pH"
      }
    },
    {
      "cell_type": "code",
      "source": [
        "import pickle\n",
        "# Saving model to disk\n",
        "pickle.dump(ETree, open('model.pkl','wb'))"
      ],
      "metadata": {
        "id": "os_FDrGQW6Kn"
      },
      "execution_count": null,
      "outputs": []
    }
  ]
}